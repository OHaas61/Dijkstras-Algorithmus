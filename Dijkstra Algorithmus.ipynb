{
 "cells": [
  {
   "attachments": {},
   "cell_type": "markdown",
   "metadata": {},
   "source": [
    "# Inhaltsverzeichnis\n",
    "\n",
    "1. [Grundlagen Graphen](#1-grundlagen-graphen)\n",
    "    1. [Einführung](#11-einführung)\n",
    "    2. [Was sind Graphen](#12-was-sind-graphen)\n",
    "        1. [Warum Graphen?](#121-warum-graphen)\n",
    "        2. [Gerichtet oder ungerichtet](#122-gerichtet-oder-ungerichtet)\n",
    "        3. [Datenstruktur eines gerichteten Graphen](#123-datenstruktur-eines-gerichteten-graphen)\n",
    "        4. [Kantengewichte](#124-kantengewichte)\n",
    "    3. [Aufgabe](#13-aufgabe)\n",
    "    4. [Lösungen](#14-lösungen)\n",
    "2. [Dijkstras Algorithmus](#2-dijkstras-algorithmus)\n",
    "    1. [Einführung](#21-einführung)\n",
    "    2. [Theorie zu Dijkstras Algorithmus](#22-theorie-zu-dijkstras-algorithmus)\n",
    "    3. [Implementierung in Python](#23-implementierung-in-python)\n",
    "        1. [Datenstruktur](#231-datenstruktur)\n",
    "        2. [Kantenrelaxtion](#232-kantenrelaxation)\n",
    "4. [Zusammenfassung](#3-zusammenfassung)\n",
    "5. [Glossar](#4-glossar)"
   ]
  },
  {
   "attachments": {},
   "cell_type": "markdown",
   "metadata": {},
   "source": [
    "\n",
    "# 1. Grundlagen Graphen\n",
    "\n",
    "## 1.1 Einführung\n",
    "\n",
    "Karten zu lesen oder einen guten Orientierungssinn zu haben sind Fähigkeiten, die immer weniger gebraucht werden. Apps wie Google Maps oder Navigationssysteme in Autos können das viel besser als wir Menschen es je können werden. Besonders gut können sie - in Bruchteilen einer Sekunde - den kürzesten Pfad von A nach B finden. Wie das funktioniert, wird auf den nächsten Seiten anhand des Dijkstra-Algorithmus (benannnt nach seinem Erfinder Edsger W. Dijkstra) gezeigt. Sie lernen, wie der Algorithmus funktioniert und wie man ihn in Python integriert. Ausserdem geht es darum, ein allgemeines Verständnis zur Implementierung von Graphen in Python zu vermitteln. Python ist eine gute Wahl, weil es eine einfach zu lernende und bedienende Programmiersprache ist. Python ist  eine dynamische interpretierte Programmiersprache, deren Fokus auf einfacher Lesbarkeit des Codes liegt. Alle Schülerinnen und Schüler der Kantonsschule Olten lernen Programmieren mit Python.\n",
    "\n",
    "Wenn sie die Datei in einem Jupyter-Editor öffnen möchten, dann können sie die Datei unter folgendem Link oder über dem Qr-Code in meinem GitHub finden: https://github.com/OHaas61/Dijkstras-Algorithmus (Zugriff: 07.01.2023)\n",
    "\n",
    "<img src=\"Bilder/qrcode_github.com.png\" height=\"280\">\n",
    "\n",
    "## 1.2 Was sind Graphen\n",
    "\n",
    "### 1.2.1 Warum Graphen?\n",
    "\n",
    "Um etwas zu berechnen, muss man es zuerst in einem Modell darstellen können. In unserem Fall muss man es irgendwie schaffen, das Strassennetz zu modellieren. Dafür sind Graphen sehr gut geeignet. Ein Graph G besteht immer aus einer Menge V von Knoten und einer Menge E von Kanten. Kanten sind Verbindungen zwischen zwei Knoten. Das folgende Bild *Abbildung1.1* zeigt einen einfachen Graphen. Die Punkte sind dabei immer die Knoten und die verbindenen Linien die Kanten. \n",
    "\n",
    "\n",
    "<img src=\"Bilder/ungerichteterGraph.png\" height=\"280\">\n",
    "\n",
    "\n",
    "\n"
   ]
  },
  {
   "attachments": {},
   "cell_type": "markdown",
   "metadata": {},
   "source": [
    "*Abbildung 1.1*"
   ]
  },
  {
   "attachments": {},
   "cell_type": "markdown",
   "metadata": {},
   "source": [
    "Einen Knoten bezeichnet man normalerweise mit dem Buchstaben v. Dieser stammt vom englischen Wort \"vertex\". Bei Kanten wird oft e verwendet, wegen dem englischen Begriff \"edge\". Angewendet auf das Strassennetz stellen alle Knoten Kreuzungen oder Verzweigungen dar. Die Kanten sind die Strassen, die die Kreuzungen und Verzweigungen verbinden. Start und Endpunkt einer Strasse, wie zum Beispiel eine Sackgasse, werden als Knoten dargestellt. Ebenfalls als Knoten dargestellt werden Start und Ziel einer Route. Wenn beispielsweise der kürzeste Pfad vom Bahnhof zur Bäckerei berechnet werden muss, dann müssen die Bäckerei und der Bahnhof mit zwei Knoten auf dem Graphen dargestellt werden. Damit das Modell nicht unübersichtlich wird, werden hier nur vereinfachte Graphen gezeigt. \n",
    "\n",
    "\n",
    "\n",
    "### 1.2.2 Gerichtet oder ungerichtet\n",
    "\n",
    "Bei Graphen differenziert man zwischen gerichteten und ungerichteten Graphen. Bei einem gerichteten Graphen ist bei jeder Kante bestimmt, in welche Richtung sie zeigt, d.h. es gibt einen Start- und einen Zielknoten. Ein ungerichteter Graph verbindet zwei Knoten ohne Richtung, d.h. es gibt keinen Start- und keinen Zielknoten. Wenn man zwei Knoten 1 und 2 hat, dann ist bei ungerichteten Kanten von 1 nach 2 und von 2 nach 1 eine Kante. Bei gerichteten Kanten kann es sein, dass die Verbindung nur von 1 nach 2 aber nicht von 2 nach 1 da ist. Wenn man gerichtete Kanten mit Strassen vergleicht, dann können sie Einbahnstrassen oder Fahrspuren verschiedener Richtungen darstellen. Ungerichtete Kanten können keine Einbahnstrassen abbilden.\n",
    "\n",
    "Man kann gerichtete Graphen auch mit Flüssen vergleichen. So kann man sie sich gut vorstellen. Da ein Fluss nur in eine Richtung fliesst könnte man ihn nur mit einer gerichteten kante darstellen, die seiner Flussrichtung folgt. Quellen und die Flussmündung sind Knoten. Flussabschnitte sind Kanten. Kommen zwei Flussabschnitte zusammen, wird dies ebenfalls mit einem Knoten dargestellt.\n",
    "\n",
    "In einem gerichteten Graphen nennt man den Knoten, von dem die Kante ausgeht, immer \"Head\" und den Knoten, auf den die Kante zeigt, immer \"Tail\". In Abbildung 1.2 ist der Unterschied zwischen gerichteten und ungerichteten Graphen dargestellt. Die Pfeilköpfe dienen als Symbole für die Richtungsanzeige.\n",
    "\n",
    "<img src=\"Bilder/un--gerichteterGraph.png\" height=\"280\">\n",
    "\n",
    "\n",
    "\n",
    "\n",
    "\n",
    "\n",
    "\n"
   ]
  },
  {
   "attachments": {},
   "cell_type": "markdown",
   "metadata": {},
   "source": [
    "*Abbildung 1.2*"
   ]
  },
  {
   "attachments": {},
   "cell_type": "markdown",
   "metadata": {},
   "source": [
    "Um ein Strassennetz mit Graphen darstellen zu können, muss man also gerichtete Graphen verwenden, da nicht alle Strassen in beide Richtungen befahren werden können.\n",
    "\n",
    "\n",
    "### 1.2.3 Datenstruktur eines gerichteten Graphen\n",
    "\n",
    "Um Graphen in einem Computerprogram zu speichern, verwendet man als Datenstruktur typischerweise sogenannte Adjazenzlisten. Adjazenzlisten bestehen aus einer Liste, die für jeden Knoten im Graphen ein Element hat. In jedem Element, das den Knoten v repräsentiert, befindet sich wiederum eine Liste, in der alle Knoten aufgelistet sind, die mit dem Knoten v verbunden sind. Wenn man dies für den gerichteten Graphen aus der Abbildung 1.2 umsetzt, sieht das in Python wie folgt aus:"
   ]
  },
  {
   "cell_type": "code",
   "execution_count": 127,
   "metadata": {},
   "outputs": [],
   "source": [
    "# Die erste Liste steht für den ersten Knoten, der Kanten hat, die zu den Knoten 2 und 3 führen. \n",
    "graph = [[2,3],[4,3],[2],[]] "
   ]
  },
  {
   "attachments": {},
   "cell_type": "markdown",
   "metadata": {},
   "source": [
    "Andere Datenstrukturen als Adjazenlisten werden in diesem Text nicht diskutiert.\n",
    "\n",
    "Jetzt hat man noch das Problem, dass jeder Knoten nur über seine Position in der Liste aufgerufen werden kann. Möchte man also alle exisitierenden Kanten von dem ersten Knoten aus aufrufen, dann muss man die Liste vom ersten Element mit Index 0 aufrufen. Wenn die Knoten nicht nur über fortlaufende Nummern, sondern über Bezeichnungen gesucht werden sollen, dann wird das schnell sehr kompliziert. In diesem Fall kann man die Adjazenzliste in einem Dictionary abbilden. In Python ist die Programmierung mit Dictionaries sehr einfach.\n",
    "\n",
    "Ein Dictionary besteht aus mehreren Paaren von Schlüssel und Werten, in Englisch \"key-value pairs\". Jedem Schlüssel (key) wird ein Wert (value) zugewiesen. Als Schlüssel können Namen oder andere Bezeichnungen wie Identifikationsnummern verwendet werden. Im Dictionary kann man die Werte (value) für einen bestimmten Knoten über seinen Schlüssel (key), also seine Bezeichnung einfach abrufen. Als Wert wird die Liste der verbundenen Knoten zurückgegeben. Die Kanten findet man implizit durch kombinieren des Knoten des Schlüssels mit den Knoten aus der zugehörigen Liste. Wieder angewendet auf den gerichteten Graphen in der Abbildung 1.2 wird das Gesagte im Code so umgesetzt:"
   ]
  },
  {
   "cell_type": "code",
   "execution_count": 128,
   "metadata": {},
   "outputs": [],
   "source": [
    "graph = { 1 : [2,3],\n",
    "          2 : [3,4],\n",
    "          3 : [2],\n",
    "          4 : []\n",
    "        }"
   ]
  },
  {
   "attachments": {},
   "cell_type": "markdown",
   "metadata": {},
   "source": [
    "Im Beispiel werden als Schlüssel die Zahlen 1 bis 4 verwendet. Für jeden Knoten gibt es einen Eintrag im Dictionary. Der Knoten 4 hat eine leere Liste, weil der Knoten nur der Endpunkt einer gerichteten Kanten ist, jedoch keine Kante von Knoten 4 weggeht. Im Flussbeispiel wäre dieser Knoten die Meeresmündung.\n",
    "\n",
    "\n",
    "### 1.2.4 Kantengewichte\n",
    "\n",
    "Mit einer Adjazenzliste können wir nun ein Strassennetz darstellen. Der kürzeste Weg kann so aber noch nicht berechnet werden, da jede Strasse als gleich lang dargestellt wird. Es wäre jetzt zwar möglich, den Weg mit den wenigsten Knoten zu finden, aber das ist nicht unbedingt der kürzeste Weg. Um in dem Modell darzustellen, wie lange man auf einer Kante von Knoten zu Knoten fahren muss, braucht es noch eine andere Angabe. Diese nennt man das Kantengewicht. Bei einer Strasse hängt das Kantengewicht von der Länge und der zugelassenen Geschwindigkeit ab. Je länger man braucht, um von einem Knoten zum nächsten zu gelangen, desto höher ist das Gewicht der Kante dazwischen. Um das Modell einfacher zu gestalten, bestehen die Kantengewichte in allen Beispielen in dieser Arbeit aus erfundenen Zahlen. \n",
    "\n",
    "Um das Gewicht in der Adjazenzliste zu speichern, kann man für jeden Knoten ein zweites Dictionary erstellen. In diesem ist Knoten der Schlüssel (key) und der Wert (value) sein Gewicht. Das sieht für das folgende Beispiel (Abbildung 1.3) so aus: \n",
    "\n",
    "\n",
    "<img src=\"Bilder/gewichteterGraph.png\" height=\"280\">"
   ]
  },
  {
   "attachments": {},
   "cell_type": "markdown",
   "metadata": {},
   "source": [
    "*Abbildung 1.3*"
   ]
  },
  {
   "cell_type": "code",
   "execution_count": 129,
   "metadata": {},
   "outputs": [
    {
     "name": "stdout",
     "output_type": "stream",
     "text": [
      "Das Gewicht der Kante zwischen 1 und 2 beträgt: 4\n",
      "Das Gewicht der Kante zwischen 1 und 3 beträgt: 2\n",
      "Das Gewicht der Kante zwischen 2 und 3 beträgt: 5\n",
      "Das Gewicht der Kante zwischen 2 und 4 beträgt: 2\n",
      "Das Gewicht der Kante zwischen 3 und 2 beträgt: 1\n"
     ]
    }
   ],
   "source": [
    "\n",
    "graph = {             \n",
    "    1: {2: 4, 3: 2},  #Das Gewicht von 1 nach 2 ist hier 4 und das Gewicht von 1 nach 3 ist 2. \n",
    "    2: {3: 5, 4: 2},\n",
    "    3: {2:1},\n",
    "    4: {}\n",
    "}\n",
    "\n",
    "print(\"Das Gewicht der Kante zwischen 1 und 2 beträgt:\", graph[1][2])\n",
    "print(\"Das Gewicht der Kante zwischen 1 und 3 beträgt:\", graph[1][3])\n",
    "print(\"Das Gewicht der Kante zwischen 2 und 3 beträgt:\", graph[2][3])\n",
    "print(\"Das Gewicht der Kante zwischen 2 und 4 beträgt:\", graph[2][4])\n",
    "print(\"Das Gewicht der Kante zwischen 3 und 2 beträgt:\", graph[3][2])\n"
   ]
  },
  {
   "attachments": {},
   "cell_type": "markdown",
   "metadata": {},
   "source": [
    "Möchte man nicht für alle Kanten und die dazugehörenden Gewichte manuell einzeln die Funktion \"print\" ausführen, geht man folgendermassen vor: Zuerst wird eine Liste erstellt, in der alle Kanten gespeichert werden können. Dann werden mit zwei for-Schleifen alle verbundenen Knoten als Paar in die dazu erstellte Liste geschrieben. Diese Liste kann man dan mit einer einzigen print-Anweisung an der Konsole ausgeben. "
   ]
  },
  {
   "cell_type": "code",
   "execution_count": 130,
   "metadata": {},
   "outputs": [
    {
     "name": "stdout",
     "output_type": "stream",
     "text": [
      "[(1, 2, 4), (1, 3, 2), (2, 3, 5), (2, 4, 2), (3, 2, 1)]\n"
     ]
    }
   ],
   "source": [
    "def kanten_finden(graph):\n",
    "  kanten = []\n",
    "# graph.items() gibt immer das ganze Schlüssel-Wert-Paar aus.\n",
    "# mit den beiden Parametern in der for-Schleife werden alle Knoten und ihre\n",
    "# Nachbarn ausgegeben.\n",
    "  for knoten, nachbaren in graph.items():\n",
    "# Diese Schleife tut dasselbe mit dem Dictionary, das sich im Dictionary befindet. \n",
    "    for nachbar, weight in nachbaren.items():\n",
    "      kanten.append((knoten, nachbar, weight))\n",
    "  return kanten\n",
    "  \n",
    "print(kanten_finden(graph))\n",
    "\n"
   ]
  },
  {
   "attachments": {},
   "cell_type": "markdown",
   "metadata": {},
   "source": [
    "### 1.2.5 Allgemeine Funktionen für Graphen \n",
    "\n",
    "Will man eine einfache Liste aller Knoten ausgeben, geht das viel einfacher als wenn man alle Kantengewichte ausgeben möchte. Im folgenden Code wird eine solche Liste erstellt: "
   ]
  },
  {
   "cell_type": "code",
   "execution_count": 131,
   "metadata": {},
   "outputs": [
    {
     "name": "stdout",
     "output_type": "stream",
     "text": [
      "Liste aller Knoten:\n",
      "[1, 2, 3, 4]\n"
     ]
    }
   ],
   "source": [
    "def knoten(graph):\n",
    "# Befehl, um alle keys auszugeben.\n",
    "    return list(graph.keys())\n",
    "\n",
    "print(\"Liste aller Knoten:\")\n",
    "print(knoten(graph))"
   ]
  },
  {
   "attachments": {},
   "cell_type": "markdown",
   "metadata": {},
   "source": [
    "## 1.3 Aufgabe\n",
    "\n",
    "Schreiben sie zwei Funktionen. Mit der ersten soll es möglich sein, Knoten über Code in dem Graphen hinzuzufügen. In der anderen soll dasselbe geschehen, aber mit Kanten und ihren Gewichten. Lösungen befinden sich im Kapitel 1.4 Lösungen.\n"
   ]
  },
  {
   "cell_type": "code",
   "execution_count": 132,
   "metadata": {},
   "outputs": [],
   "source": [
    "# Hier kommt ihre Antwort hin.\n"
   ]
  },
  {
   "attachments": {},
   "cell_type": "markdown",
   "metadata": {},
   "source": [
    "## 1.4 Lösungen \n",
    "\n",
    "Die folgenden Zeilen enthalten noch einmal alle besprochenen Funktionen und die Lösungen zu der Aufgabe. "
   ]
  },
  {
   "cell_type": "code",
   "execution_count": 133,
   "metadata": {},
   "outputs": [
    {
     "name": "stdout",
     "output_type": "stream",
     "text": [
      "Liste aller Knoten:\n",
      "[1, 2, 3, 4]\n",
      "Liste aller Kanten\n",
      "[(1, 2, 4), (1, 3, 2), (2, 3, 5), (2, 4, 2), (3, 2, 1)]\n",
      "Ein Knoten wurde hinzugefügt\n",
      "[1, 2, 3, 4, 5]\n",
      "Eine Kante von 5 nach 4 mit dem Gewicht 6 wurde hinzugefügt\n",
      "[(1, 2, 4), (1, 3, 2), (2, 3, 5), (2, 4, 2), (3, 2, 1), (5, 4, 6)]\n"
     ]
    }
   ],
   "source": [
    "\n",
    "graph = {             \n",
    "            1: {2: 4, 3: 2},  \n",
    "            2: {3: 5, 4: 2},\n",
    "            3: {2:1},\n",
    "            4: {}\n",
    "        }\n",
    "\n",
    "def knoten(graph):\n",
    "    return list(graph.keys())\n",
    "\n",
    "def kanten_finden(graph):\n",
    "  kanten = []\n",
    "  for knoten, nachbaren in graph.items():\n",
    "    for nachbar, weight in nachbaren.items():\n",
    "      kanten.append((knoten, nachbar, weight))\n",
    "  return kanten\n",
    "\n",
    "def knoten_hinzufügen(graph, knoten):\n",
    "    if knoten not in graph:\n",
    "        graph[knoten] = {}\n",
    "\n",
    "\n",
    "def kante_hinzufügen(graph, vertex1, vertex2, weight):\n",
    "        if vertex1 in graph:\n",
    "            graph[vertex1][vertex2] = weight\n",
    "        else:\n",
    "            graph[vertex1] = {vertex2: weight}\n",
    "\n",
    "print(\"Liste aller Knoten:\")\n",
    "print(knoten(graph))\n",
    "\n",
    "print(\"Liste aller Kanten\")\n",
    "print(kanten_finden(graph))\n",
    "\n",
    "knoten_hinzufügen(graph, 5)\n",
    "print(\"Ein Knoten wurde hinzugefügt\")\n",
    "print(knoten(graph))\n",
    "\n",
    "kante_hinzufügen(graph, 5, 4, 6)\n",
    "print(\"Eine Kante von 5 nach 4 mit dem Gewicht 6 wurde hinzugefügt\")\n",
    "print(kanten_finden(graph))"
   ]
  },
  {
   "attachments": {},
   "cell_type": "markdown",
   "metadata": {},
   "source": [
    "# 2. Dijkstras Algorithmus\n",
    "\n",
    "## 2.1 Einführung\n",
    "\n",
    "Edsger W. Dijkstra wird 1930 geboren und wächst in den Niederlanden auf. Seine Mutter ist Mathematikerin, sein Vater Chemiker. Er folgt seinen Eltern mit einer Laufbahn im Bereich der Naturwissenschaften und studiert an der Universität Leiden in den Niederlanden Mathematik und theoretische Physik. Im Jahr 1962 wird Dijkstra Mathematikprofessor an der Technischen Hochschule Eindhoven. Bereits drei Jahre zuvor veröffentlicht er den Dijkstra-Algorithmus in einem kurzen Artikel. Er stirbt 2002 im Alter von 72 Jahren.\n",
    "\n",
    "Dijkstras Algorithmus berechnet den kürzesten Pfad in Graphen. Diese Graphen kann man als Modell für verschiedene Dinge brauchen. Beispiele sind Strassennetzwerke oder das Internet, bei dem jeder Router einen Knoten darstellt. Tatsächlich ist die Vielfalt der Anwendungen dieses Algorithmus im Alltag sehr gross. Apps wie Google Maps und andere Navigationssysteme werden immer häufiger gebraucht. Jedes moderne Auto hat ein eigenes \"Navi\" eingebaut. Alle diese Systeme können die schnellste Route von irgendwo zu einem frei wählbaren Zielpunkt in einem Bruchteil einer Sekunde berechnen. Dijkstras Algorithmus ist ein klassischer Algorithmus, der sich mit diesem Problem beschäftigt.\n",
    "\n",
    "Anhand des folgenden Graphen wird Schritt für Schritt erklärt wie der Algorithmus funktioniert und wie man ihn programmiert. Die Gewichtungen in Abbildung 2.1 sind einfachheitshalber zufällig gewählt.\n",
    "\n",
    "<img src=\"Bilder/EdgeWeightedDigraph.png\" height=\"600\">\n",
    "\n",
    "\n"
   ]
  },
  {
   "attachments": {},
   "cell_type": "markdown",
   "metadata": {},
   "source": [
    "*Abbildung 2.1*\n",
    "\n",
    "## 2.2 Theorie zu Dijkstras Algorithmus\n",
    "\n",
    "Der Algorithmus von Dijkstra funktioniert nur, wenn es keine negativen Kantengewichte gibt. Um den kürzesten Pfad zu finden, werden zuerst alle Distanzen zwischen den im Graphen dargestellten Städten auf den Wert unendlich gesetzt. Dieser Wert wird in einer kopierten Adjazenzliste gespeichert. Dort befinden sich nun alle vom Algorithmus noch unbesuchten Distanzen. Der Algorithmus beginnt immer beim Startpunkt, in diesem Beispiel London. Das Ziel ist es, auf dem kürzesten Pfad nach San Francisco zu gelangen. \n",
    "\\\n",
    "Die Strecke vom Startpunkt zu sich selbst wird immer auf Null gesetzt. Dann werden alle Knoten, die über Kanten mit dem Startpunkt verbunden sind, geprüft. Jeder gefundene Wert (Kantengewicht) wird kleiner sein, als der zuvor definierte Wert unendlich. Also wird das Kantengewicht der direkten Kante zu den nächsten Knoten als neuer kürzester Pfad zu diesen Knoten eingetragen. D.h. in unserem Beispiel wird von London nach Montreal 200 eingetragen, von London nach San Francisco 500 und von London nach Paris 10. \n",
    "\n",
    "Nach diesem Durchgang sieht die Liste der kürzesten Pfade so aus:\n",
    "\n",
    " Knoten |Kürzester Pfad\n",
    "-----|-----\n",
    "London|0\n",
    "Dublin|Unendlich\n",
    "Montreal|200\n",
    "San Francisco|500\n",
    "Paris|10\n",
    "Amsterdam|Unendlich\n",
    "\n",
    "Das Programm fährt nun immer vom kürzesten Pfad ausgehend fort. Der kürzeste Pfad ist jeweils derjenige mit dem tiefsten Kantengewicht. Aus einer Liste, in der alle ungprüften Knoten gespeichert sind, wird London entfernt, so dass es nicht mehr gewählt werden kann. Paris ist jetzt der nächste Knoten mit dem Kürzesten Pfad. Jetzt wird der selbe Vorgang wie zuvor nochmals durchgeführt, diesmal geht die Suche einfach von Paris aus. Alle dadurch neu erschlossenen Knoten erhalten nun ebenfalls eine Eintragung in der Spalte Kürzester Pfad. Die Gewichtung zu ihnen besteht immer aus dem Gewicht zwischen London und Paris und dem dazu addierten Gewicht zwischen Paris und dem neu erschlossenen Knoten. \n",
    "\\\n",
    "\\\n",
    "Von London nach Amsterdam beträgt der Eintrag jetzt also 20 (10 von London nach Paris und dazu addierte 10 von Paris nach Amsterdam). \n",
    "\\\n",
    "Alle die Knoten, die jetzt - über die via-Paris-Verbindung - einen neuen, kürzeren Pfad haben, erhalten ein neues, addiertes Gewicht in der Liste. Von London nach San Francisco verkleinert sich das Kantengewicht via Paris auf 410 (von London nach Paris 10 und dazu addierte 400 von Paris nach San Francisco). Der im ersten Schritt erfasste Wert 500 wird überschrieben, weil jetzt ein neuer kürzester Weg von London nach San Francisco gefunden wurde. \n",
    "\\\n",
    "Bei Pfaden, für die von London via Paris höhere Kantengewichte errechnet werden, wird am Eintrag aus dem ersten, direkten Pfad nichts geändert (London Montreal bleibt 200).\n",
    "\n",
    "Nachdem alle Knoten via Paris getestet wurden, sieht die Liste so aus: \n",
    "\n",
    " Knoten |Kürzester Pfad\n",
    "-----|-----\n",
    "London|0\n",
    "Dublin|Unendlich\n",
    "Montreal|200\n",
    "San Francisco|410\n",
    "Paris|10\n",
    "Amsterdam|20\n",
    "\n",
    "Nun wird Paris aus der Liste, mit den noch ungetesteten Knoten, gelöscht und mit dem nächsten kürzesten Pfad (Amsterdam) wird wieder von vorne begonnen.\n",
    "Dieser Vorgang wird so lange wiederholt, bis alle kürzesten Pfade gefunden wurden. \n",
    "\n",
    "Im nächsten Abschnitt geht es darum, wie man dieses Konzept nun in Python implementiert. "
   ]
  },
  {
   "attachments": {},
   "cell_type": "markdown",
   "metadata": {},
   "source": [
    "## 2.3 Implementierung in Python \n",
    "\n",
    "\n",
    "### 2.3.1 Datenstruktur\n",
    "\n",
    "Es geht wieder darum, den kürzesten Pfad von London nach San Francisco zu finden. Zuerst muss eine passende Adjazenzliste erstellt werden. Das wird genau so wie im vorherigen Kapitel beschrieben gemacht. In einem Dictionary werden als Schlüssel alle Knoten des Graphen definiert und den Kanten wird das jeweilige Kantengewicht zugewiesen. Ausserdem muss der Startpunkt und der Endpunkt des Graphen definiert werden. Nach dem Beispiel aus Abbildung 2.1 sieht das wie folgt aus. (Führen sie den Code aus, um die Variablen und den Graphen zu speichern.)"
   ]
  },
  {
   "cell_type": "code",
   "execution_count": 134,
   "metadata": {},
   "outputs": [],
   "source": [
    "graph = {'London':{'Paris':10,'San Francisco':500,\"Montreal\":200},\n",
    "        'Dublin':{'London':20,'Amsterdam':25,'Paris':35},     \n",
    "        'Montreal':{'San Francisco':200},\n",
    "        'San Francisco':{'Dublin':700},\n",
    "        'Paris':{'San Francisco':400,'Amsterdam':10},\n",
    "        \"Amsterdam\":{\"Montreal\":300,\"San Francisco\":450}\n",
    "}\n",
    "\n",
    "startpunkt = \"London\"\n",
    "zielpunkt = \"San Francisco\""
   ]
  },
  {
   "attachments": {},
   "cell_type": "markdown",
   "metadata": {},
   "source": [
    "### 2.3.2 Kantenrelaxation\n",
    "\n",
    "Als nächstes folgt die sogenannte Kantenrelaxation. Sie beschreibt den im Kapitel Theorie erklärten Vorgang. Es geht dabei darum, den kürzesten Pfad nach und nach herauszufinden. Dafür muss der Graph in ein neues Dictonary kopiert werden. In einem anderen Dictionary werden alle kleinsten Gewichte gespeichert. Darin werden alle Gewichte vorerst auf die positive Unendlichkeit gesetzt, ausser vom Ausgangsort zum Ausgangsort selbst, diese wird auf 0 gesetzt. Weil das Programm mit der kleinsten Distanz anfängt, ist hiermit der Startpunkt gegeben. Zusätzlich wird noch eine leere Liste erstellt, in der am Ende der kürzeste Pfad gespeichert wird. Das folgende Code Beispiel zeigt, wie das in Python gemacht wird:"
   ]
  },
  {
   "cell_type": "code",
   "execution_count": 135,
   "metadata": {},
   "outputs": [],
   "source": [
    "# Der zuvor definierte Graph wird kopiert und erneut abgespeichert.\n",
    "unbesucht = graph \n",
    "# Hier werden alle kürzeste Distanzen gespeichert.\n",
    "kürzeste_distanzen = {} \n",
    "# Der finale kürzeste Pfad wird in diese Liste gespeichert.\n",
    "route = [] \n",
    "pfad_knoten = {}\n",
    "# Alle Distanzen werden auf unendlich gesetzt.\n",
    "for knoten in unbesucht:\n",
    "   kürzeste_distanzen[knoten] = float('inf') \n",
    "# Setzt die Distanz zum Startpunkt auf Null.\n",
    "kürzeste_distanzen[startpunkt] = 0"
   ]
  },
  {
   "attachments": {},
   "cell_type": "markdown",
   "metadata": {},
   "source": [
    "Der nächste ist der schwierigste Teil des Codes. Jetzt geht es darum die kürzesten Pfade zu finden. Dieser Code läuft solange ein unbesuchter Knoten existiert. Im ersten Teil wird der Knoten mit dem kleinsten Gewicht gesucht. Dieser heisst \"min_knoten\". Der Vorgang funktioniert folgendermassen: Zuerst wird \"min_knoten\" auf \"none\" gesetz. Dann werden mit einer For-Schleife alle Knoten in dem Dictionary \"unbesucht\" durchsucht. Beim ersten Druchlauf, wird \"aktueller_knoten\" als erster Knoten in dem Dictionary gespeichert, also als London. Das erste If-Statement trifft im ersten Durchlauf immer zu, da noch nichts den Wert von \"min_knoten\" geändert hat. Deshalb bekommt der Knoten \"min_knoten\" den selben Wert wie der Knoten \"aktueller_knoten\". Bei dem nächsten Durchgang durch die For-Schleife wird der Knoten \"aktueller_knoten\" geändert und die erste If-Bedingung trifft nicht mehr zu, da \"min_knoten\" einen anderen Wert als \"none\" hat. Das zweite If-Statement trifft nur zu, wenn die Distanz zu dem Knoten \"min_knoten\" kleiner ist, als die zu dem Knoten \"aktueller_knoten\". Wenn das so ist wird der Knoten \"min_knoten\" wieder mit dem Knoten \"aktueller_knoten\" gleichgesetzt. Dieser Vorgang wird wiederholt, bis alle Knoten in \"unbesucht\" durch sind. Am Ende erhält man als \"min_knoten\" den Knoten mit der kleinsten Distanz, vom Startknoten zu ihm, die bereits gefunden wurde. Damit das einfacher verständlich ist, können sie sich, nach dem Ausführen des nächsten Code-Blocks, die Konsole anschauen. Dort sieht man, dass der erste Wert London ist. London ist unser Starpunkt mit einer Distanz von 0. Nach einem Durchgang wird London aus dem Dictionary \"unbekannt\" gelöscht und es wird nach dem neuen Knoten mit dem Kürzesten Pfad gesucht. Von London aus ist das Paris, mit einer Distanz von 10. Das geht immer so weiter, bis \"unbesucht\" leer ist, weil alle Knoten besucht wurden. \n",
    "\n",
    "In der zweiten For-Schleife werden die Kürzesten Pfade gefunden. \"unbesucht[min_knoten]\" gibt den Value Teil vom Schlüssel-Werte-Paar aus. Dieser besteht wieder aus einem Dictionary. Wenn \"min_knoten\" London wäre, dann wäre der Output: {'Paris':10,'San Francisco':500,\"Montreal\":200}. Mit dem Befehl \"items()\" dazu, wird immer das ganze Schlüssel-Werte-Paar ausgegeben. Bei dem selben Beispiel im ersten Durchgang der for-Schleife wäre das Paris und 10. An \"Knoten\" wird dann der Schlüssel Paris übergeben und an \"value\" der Wert 10. Mit dem folgendem If-Statement wird geprüft ob der Pfad mit dem Schlüseel (\"min_knoten\") addiert mit dem Wert, dem Gewicht des Knoten, kleiner ist als der kürzeste Pfad, der zu \"knoten\" (aus der For-Schleife) führt, der bis jetzt in der \"kürzesten_distanzen\" Liste gespeichert wurde. Wenn das so ist, dann wird dieser gefundene Pfad als neuer, küzester Pfad zwischen dem Startknoten und dem \"knoten\" aus der For-Schleife gespeichert. Wieder bei dem Beispiel mit London, Paris und 10 würde das Programm schauen ob die bisherig gespeicherte kürzeste Distanz zu Paris kleiner ist als die kürzeste Distanz zu London addiert mit 10. Am Ende eines Durchgangs wird der \"min_knoten\" aus den unbesuchten Knoten gelöscht. "
   ]
  },
  {
   "cell_type": "code",
   "execution_count": 136,
   "metadata": {},
   "outputs": [],
   "source": [
    "while(unbesucht):\n",
    "       min_knoten = None\n",
    "       for aktueller_knoten in unbesucht: \n",
    "           if min_knoten is None:\n",
    "               min_knoten = aktueller_knoten        \n",
    "           elif kürzeste_distanzen[min_knoten] > kürzeste_distanzen[aktueller_knoten]:\n",
    "               min_knoten = aktueller_knoten\n",
    "# Durchsucht alle values (also die Distanz von min_node zu dem jetzt ausgewerteten) des Key-Value-Paires,\n",
    "# der dictionarys, die zum aktuell untersuchten Knoten (min_knoten) gehören.\n",
    "       for knoten,value in unbesucht[min_knoten].items():\n",
    "# Es wird geschaut, ob die Distanz zwischen min_knoten und dem Knoten, mit dem er verbunden ist, kleiner\n",
    "# ist als die bisherig gespeicherte, kürzeste Distanz.\n",
    "           if value + kürzeste_distanzen[min_knoten] < kürzeste_distanzen[knoten]: \n",
    "# Wenn das zutrifft, wird die bisherige, kürzeste Distanz geändert.\n",
    "               kürzeste_distanzen[knoten] = value + kürzeste_distanzen[min_knoten]\n",
    "# Der untersuchte Knoten mit dem neuen kürzesten Pfad wird in die Liste mit dem Pfad eingefügt\n",
    "               pfad_knoten[knoten] = min_knoten\n",
    "# Unabhängig davon, ob ein neuer, kürzester Pfad gefunden wurde oder nicht, wird der Knoten aus dem unbesucht\n",
    "# -Dictionary entfernt.\n",
    "       unbesucht.pop(min_knoten)"
   ]
  },
  {
   "attachments": {},
   "cell_type": "markdown",
   "metadata": {},
   "source": [
    "Die Befehle \"try\" und \"except\" braucht man, um bei einem Error das Programm zu stoppen und einen anderen Output zu initiieren. Hier werden diese Befehle gebraucht, um zu vermeiden, dass ein Error auftritt, wenn es unmöglich ist, vom Startknoten aus den Zielknoten zu erreichen. Wenn ein Fehler bei der Ausführung des Programmes erscheint, wird auf die Konsole geschrieben, dass die Bedingungen nicht stimmten. Solange keine Fehlermeldung erscheint, wird in die Liste \"route\" der neue Knoten des kürzesten Pfades, immer an der ersten Stelle in der Liste eingefügt. Danach werden noch Start und Endpunkt an Anfang und Ende der Liste geschrieben, um die Route zu vervollständigen. "
   ]
  },
  {
   "cell_type": "code",
   "execution_count": 137,
   "metadata": {},
   "outputs": [
    {
     "name": "stdout",
     "output_type": "stream",
     "text": [
      "Die kürzeste Distanz beträgt: 400\n",
      "Der kürzeste Pfad zum Ziel ist: ['London', 'Paris', 'San Francisco']\n"
     ]
    }
   ],
   "source": [
    "while knoten != startpunkt:\n",
    "    try:\n",
    "        route.insert(0, knoten)\n",
    "        knoten = pfad_knoten[knoten]\n",
    "    except Exception:\n",
    "        print(\"Es führt kein Pfad vom Start-, zum Zielknoten.\")\n",
    "        break\n",
    "\n",
    "route.insert(0, startpunkt)\n",
    "route.append(zielpunkt)\n",
    "\n",
    "if kürzeste_distanzen[zielpunkt] != float('inf'):\n",
    "    print(\"Die kürzeste Distanz beträgt: \" + str(kürzeste_distanzen[zielpunkt]))\n",
    "    print(\"Der kürzeste Pfad zum Ziel ist: \" + str(route))\n"
   ]
  },
  {
   "attachments": {},
   "cell_type": "markdown",
   "metadata": {},
   "source": [
    "Wenn alles ausgeführt wird, dann wird in der Konsole angezeigt, wo der kürzeste Pfad durchgeht und wie gross die Gewichtung ist. Die Gewichtung besteht hier aus allen addierten Gewichten der Kanten auf dem kürzesten Pfad zwischen dem Start- und Endknoten.\n",
    "\n",
    "# 3. Zusammenfassung\n",
    "\n",
    "In diesem Dokument ging es um einen Algorithmus mit dem man den Kürzesten Pfad zwischen zwei Punkten A und B bestimmen kann. Der Algorithmus heisst: \"Dijkstra Algorithmus\". Dieser funktioniert folgendermassen. Zuerst muss z.B. ein Strassennetz als gewichteter, gerichteter Graph in einer Adjazenzliste gespeichert werden. Darin sind alle vorhandenen Kanten und ihre Gewichte gespeichert. Danach muss ein Start-und Zielknoten definiert werden. Der Algorithmus sucht dann zwischen allen Knoten so lange den kürzesten Pfad, bis es keinen Pfad mehr gibt, der kürzer ist, als der kürzeste gefundene Pfad, der vomn Start-, zum Zielknoten geht. In dem ersten Kapitel \"Grundlagen Graphen\" werden Grundkentnisse zu Graphen übermittelt. In dem zweiten \"Dijkstras Algorithmus\" geht es um die Implementierung des vorher beschriebenen Algorithmus in Python und um eine noch genauere Beschreibung des Algorithmus. \n",
    "\n",
    "# 4. Glossar\n",
    "\n",
    "**Kanten**\n",
    "- Kanten sind Verbindungen zwischen Knoten.\n",
    "- Es gibt auch Kanten, die einen Knoten mit sich selbst verbinden. Diese heissen: Reflexive Kanten (oder auch Schlingen)\n",
    "- Wenn zwei Kanten das selbe Knotenpaar verbinden, dann sind sie parallel. \n",
    "\n",
    "**Knoten** \n",
    "- Knoten sind Teile eines Graphes, die mit mindestens einer Kante verbunden sind. \n",
    "- Beispiele für Knoten, bei Anwendungen, sind Kreuzungen, Start - und Zielknoten und Ende von Strassen.\n",
    "\n",
    "**Gerichtete Kanten**\n",
    "- Einer gerichteten Kante wird immer eine Richtung zugewiesen, in der sie ihr Knotenpaar verbindet. Sie geht beispielsweise nur vom Knoten A zum Knoten B, von B zu A besteht keine Verbindung.\n",
    "\n",
    "**Graph**\n",
    "- Ein Graph besteht aus einer Menge von Knoten und Kanten. \n",
    "\n",
    "**Gerichteter Graph**\n",
    "- Ein gerichteter Graph besteht aus einer Menge von Knoten und gerichteten Kanten.\n",
    "- Er wird oft auch Digraph genannt. \n",
    "\n",
    "**Kantengewichte**\n",
    "- Kanten werden verschieden gewichtet. Man kann sich das Gewicht als Kosten vorstellen. Je höher das Gewicht einer Kante ist, desto mehr kostet es, über diese den nächsten Knoten zu erreichen. \n",
    "- Wenn die Kanten Strassen repräsentieren, dann wäre das Gewicht entweder die Distanz, die zwischen den Knoten liegt oder die benötigte Zeit, um von einem Knoten zum anderen zu gehen. \n",
    "\n",
    "**Kürzester Pfad**\n",
    "- Der kürzeste Pfad besteht aus der Summe aller Gewichte der Kanten, die von A nach B führen und die kleinste Summe, aus jedem möglichen Pfad, ergeben.\n",
    "\n",
    "\n",
    "# 5. Literatur/-Quellenverzeichnis \n",
    "\n",
    "**Literatur:**\n",
    "\n",
    "- Sedgewick, Robert / Wayne, Kevin: Algorithmen. Algorithmen und Datenstrukturen, Hallbergmoos 2014.\n",
    "\n",
    "**Sonstiges:**\n",
    "\n",
    "- Python-Kurs (Hg.): Graphen in Python, https://www.python-kurs.eu/graphen_python.php (Zugriff: 20.12.2022).\n",
    "- Wikipedia (Hg.): Edsger W. Dijkstra, https://de.wikipedia.org/wiki/Edsger_W._Dijkstra (Zugriff: 02.01.2023)\n",
    "- Wikipedia (Hg.): Dijkstra-Algorithmus, https://de.wikipedia.org/wiki/Dijkstra-Algorithmus#Andere_Verfahren_zur_Berechnung_k%C3%BCrzester_Pfade (Zugriff: 02.01.2023)\n",
    "- Bogo to Bogo (Hg.): DIJKSTRA’S SHORTEST PATH ALGORITHM,  https://www.bogotobogo.com/python/python_Dijkstras_Shortest_Path_Algorithm.php#:~:text=Dijkstra's%20algorithm%20is%20an%20iterative,variable%20in%20the%20Vertex%20class (Zugriff: 02.01.2023). \n",
    "- Algodaily (Hg.): An illustrated Guide to Dijkstras Algorithm https://algodaily.com/lessons/an-illustrated-guide-to-dijkstras-algorithm/python (Zugriff: 04.01.2023) \n",
    "- RajuKumar19 / geekforgeeks (Hg.): Python infinity, https://www.geeksforgeeks.org/python-infinity/ (Zugriff: 04.01.2023)\n",
    "\n",
    "**Bilder**\n",
    "\n",
    "- Abbildung 1.1: https://www.ingenieurkurse.de/assets/courses/media/graphentheorie-1-print.png (Zugriff 06.01.2023)\n",
    "- Abbildung 1.2: https://www.ingenieurkurse.de/assets/courses/media/graphentheorie-1-print.png (Zugriff 06.01.2023)\n",
    "- Abbildung 1.3: Eigene Darstellung basierend auf https://www.ingenieurkurse.de/assets/courses/media/graphentheorie-1-print.png (Zugriff 06.01.2023)\n",
    "- Abbildung 2.1: https://de.wikipedia.org/wiki/Graph_%28Graphentheorie%29#/media/Datei:CPT-Graphs-directed-weighted-ex1.svg (Zugriff 03.01.2023)\n"
   ]
  }
 ],
 "metadata": {
  "kernelspec": {
   "display_name": "Python 3",
   "language": "python",
   "name": "python3"
  },
  "language_info": {
   "codemirror_mode": {
    "name": "ipython",
    "version": 3
   },
   "file_extension": ".py",
   "mimetype": "text/x-python",
   "name": "python",
   "nbconvert_exporter": "python",
   "pygments_lexer": "ipython3",
   "version": "3.9.13"
  },
  "orig_nbformat": 4,
  "vscode": {
   "interpreter": {
    "hash": "2eba5253e6e38b26677483adba5f9f4fa36bc21bac6b3f70ff45fdf97c7ea58c"
   }
  }
 },
 "nbformat": 4,
 "nbformat_minor": 2
}
